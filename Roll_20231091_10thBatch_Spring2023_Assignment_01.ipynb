{
  "nbformat": 4,
  "nbformat_minor": 0,
  "metadata": {
    "colab": {
      "provenance": [],
      "authorship_tag": "ABX9TyPccWDoh5Ap6/Ol6xoGm8ZN",
      "include_colab_link": true
    },
    "kernelspec": {
      "name": "python3",
      "display_name": "Python 3"
    },
    "language_info": {
      "name": "python"
    }
  },
  "cells": [
    {
      "cell_type": "markdown",
      "metadata": {
        "id": "view-in-github",
        "colab_type": "text"
      },
      "source": [
        "<a href=\"https://colab.research.google.com/github/sohel62/PM-ASDS04_data_science_python_assignment_01/blob/master/Roll_20231091_10thBatch_Spring2023_Assignment_01.ipynb\" target=\"_parent\"><img src=\"https://colab.research.google.com/assets/colab-badge.svg\" alt=\"Open In Colab\"/></a>"
      ]
    },
    {
      "cell_type": "markdown",
      "source": [
        "# Roll: 20231091\n",
        "Mohammad Taslim Mazumder Sohel"
      ],
      "metadata": {
        "id": "lZlyA1fVKUnY"
      }
    },
    {
      "cell_type": "markdown",
      "source": [
        "**Python: Variables**"
      ],
      "metadata": {
        "id": "AgK45vwyMkKK"
      }
    },
    {
      "cell_type": "code",
      "execution_count": null,
      "metadata": {
        "colab": {
          "base_uri": "https://localhost:8080/"
        },
        "id": "71RYhLNFEsxV",
        "outputId": "93012ce2-a63a-4e05-9e1c-3c6b38226139"
      },
      "outputs": [
        {
          "output_type": "stream",
          "name": "stdout",
          "text": [
            "Enter a number: 55\n",
            "Data type of x: <class 'str'>\n",
            "Data type of x: <class 'str'>  y: <class 'int'>  z: <class 'float'>\n"
          ]
        }
      ],
      "source": [
        "\n",
        "# a) Use input( ) function to accept numbers from user as a value of a variable x.\n",
        "# b) Check the data type using type( ) function.\n",
        "# c) Also convert the data type to integer and assign to the variable y.\n",
        "# d) Convert the data type into float and assign to the variable z .\n",
        "# e) display the data type of x, y, and z\n",
        "x = input(\"Enter a number: \")\n",
        "print(\"Data type of x:\", type(x))\n",
        "y = int(x)\n",
        "z = float(x)\n",
        "print(\"Data type of x:\", type(x),\" y:\", type(y),\" z:\", type(z))"
      ]
    },
    {
      "cell_type": "markdown",
      "source": [
        "**Strings in Python**"
      ],
      "metadata": {
        "id": "h_ZWDGehMDIl"
      }
    },
    {
      "cell_type": "code",
      "source": [
        "\n",
        "# a) Write a Python program to calculate the length of a string.\n",
        "_string_ = input (\"\\nEnter a string: \")\n",
        "length = len(_string_)\n",
        "print (\"Length of the string:\", length)\n",
        "\n",
        "# b) Write a Python program to count the number of characters in a string.\n",
        "count = 0\n",
        "for char in _string_:\n",
        "    count += 1\n",
        "print(\"Number of characters:\", count)\n",
        "\n",
        "# c) Write a Python program to remove the kth index character from a string.\n",
        "k = int(input(\"Enter the index to remove: \"))\n",
        "if k < 0 or k >= len(_string_):\n",
        "    print(\"Invalid index\")\n",
        "else:\n",
        "    new_string = _string_[:k] + _string_[k+1:]\n",
        "print(\"String after removing character at index\", k, \":\", new_string)\n",
        "\n",
        "# d) Write a Python program to remove the characters which have odd index values of a given string.\n",
        "new_string = \"\"\n",
        "for i in range(len(_string_)):\n",
        "    if i % 2 == 0:\n",
        "        new_string += _string_[i]\n",
        "print(\"String after removing characters with odd index values:\", new_string)\n",
        "\n",
        "# e) Write a Python script that takes input from the user and displays that input back in upper and lower cases.\n",
        "print(\"Uppercase:\", _string_.upper())\n",
        "print(\"Lowercase:\", _string_.lower())\n",
        "\n",
        "# f) Write a Python program to sort a string\n",
        "sorted_string = ''.join(sorted(_string_))\n",
        "print(\"Sorted string:\", sorted_string)\n",
        "\n",
        "# g) Write a Python program to reverse a string.\n",
        "reversed_string = _string_[::-1]\n",
        "print(\"Reversed string:\", reversed_string)\n",
        "\n",
        "# h) Write a Python program to convert a given string into a list.\n",
        "string_list = list(_string_)\n",
        "print(\"List representation of the string:\", string_list)"
      ],
      "metadata": {
        "colab": {
          "base_uri": "https://localhost:8080/"
        },
        "id": "xVa9lGPNMD6B",
        "outputId": "cf886b59-d934-4bfb-d2c0-1bb8cdae3310"
      },
      "execution_count": null,
      "outputs": [
        {
          "output_type": "stream",
          "name": "stdout",
          "text": [
            "\n",
            "Enter a string: Sohel Mazumder\n",
            "Length of the string: 14\n",
            "Number of characters: 14\n",
            "Enter the index to remove: 2\n",
            "String after removing character at index 2 : Soel Mazumder\n",
            "String after removing characters with odd index values: ShlMzme\n",
            "Uppercase: SOHEL MAZUMDER\n",
            "Lowercase: sohel mazumder\n",
            "Sorted string:  MSadeehlmoruz\n",
            "Reversed string: redmuzaM lehoS\n",
            "List representation of the string: ['S', 'o', 'h', 'e', 'l', ' ', 'M', 'a', 'z', 'u', 'm', 'd', 'e', 'r']\n"
          ]
        }
      ]
    },
    {
      "cell_type": "markdown",
      "source": [
        "**Python: Lists**"
      ],
      "metadata": {
        "id": "RdIDW-XZMb74"
      }
    },
    {
      "cell_type": "code",
      "source": [
        "\n",
        "# a) Write a Python program to sum (or product) all the items in a list\n",
        "my_list = [1, 2, 3, 4, 5]\n",
        "sum_result = sum(my_list)\n",
        "product_result = 1\n",
        "for num in my_list:\n",
        "    product_result *= num\n",
        "\n",
        "print(\"The list:\", my_list)\n",
        "print(\"Sum of the list:\", sum_result)\n",
        "print(\"Product of the list:\", product_result)\n",
        "\n"
      ],
      "metadata": {
        "colab": {
          "base_uri": "https://localhost:8080/"
        },
        "id": "H_lefXtkMdPw",
        "outputId": "470f4f68-fce3-408c-9d48-ef6535e22938"
      },
      "execution_count": null,
      "outputs": [
        {
          "output_type": "stream",
          "name": "stdout",
          "text": [
            "The list: [1, 2, 3, 4, 5]\n",
            "Sum of the list: 15\n",
            "Product of the list: 120\n"
          ]
        }
      ]
    },
    {
      "cell_type": "code",
      "source": [
        "# b) Write a Python program to get the largest/smallest number from a list\n",
        "my_list = [1, 2, 3, 4, 5]\n",
        "largest_number = max(my_list)\n",
        "smallest_number = min(my_list)\n",
        "print(\"Largest number in the list:\", largest_number)\n",
        "print(\"Smallest number in the list:\", smallest_number)\n",
        "\n",
        "# c) Write a Python program to print the numbers of a specified list after removing even numbers from it\n",
        "new_list = [num for num in my_list if num % 2 != 0]\n",
        "print(\"List after removing even numbers:\", new_list)\n",
        "\n",
        "# d) Write a Python program to select the odd number of a list\n",
        "odd_numbers = [num for num in my_list if num % 2 == 0]\n",
        "print(\"Odd numbers in the list:\", odd_numbers)\n",
        "\n"
      ],
      "metadata": {
        "colab": {
          "base_uri": "https://localhost:8080/"
        },
        "id": "FgD0zy3XO4Ob",
        "outputId": "fc697e48-b248-4f41-d130-eb75953b92c4"
      },
      "execution_count": null,
      "outputs": [
        {
          "output_type": "stream",
          "name": "stdout",
          "text": [
            "Largest number in the list: 5\n",
            "Smallest number in the list: 1\n",
            "List after removing even numbers: [1, 3, 5]\n",
            "Odd numbers in the list: [2, 4]\n"
          ]
        }
      ]
    },
    {
      "cell_type": "code",
      "source": [
        "# e) Write a Python program to convert a list of characters into a string\n",
        "char_list = ['H', 'e', 'l', 'l', 'o']\n",
        "print(\"The list:\", char_list)\n",
        "string = ''.join(char_list)\n",
        "print(\"Converted string:\", string)\n",
        "\n"
      ],
      "metadata": {
        "colab": {
          "base_uri": "https://localhost:8080/"
        },
        "id": "ETgaNXWYPBbK",
        "outputId": "7b77483f-8741-4a00-ca0a-220866353d61"
      },
      "execution_count": null,
      "outputs": [
        {
          "output_type": "stream",
          "name": "stdout",
          "text": [
            "The list: ['H', 'e', 'l', 'l', 'o']\n",
            "Converted string: Hello\n"
          ]
        }
      ]
    },
    {
      "cell_type": "code",
      "source": [
        "# f) Write a Python program to find the index of an item in a specified list\n",
        "my_list = [1, 2, 3, 4, 5]\n",
        "print(\"The list:\", my_list)\n",
        "item = 3\n",
        "index = my_list.index(item)\n",
        "print(\"Index of\", item, \"in the list:\", index)\n",
        "\n"
      ],
      "metadata": {
        "colab": {
          "base_uri": "https://localhost:8080/"
        },
        "id": "NoOYslt7PC8B",
        "outputId": "8155bb5a-b3ad-464a-a310-68a7c644e530"
      },
      "execution_count": null,
      "outputs": [
        {
          "output_type": "stream",
          "name": "stdout",
          "text": [
            "The list: [1, 2, 3, 4, 5]\n",
            "Index of 3 in the list: 2\n"
          ]
        }
      ]
    },
    {
      "cell_type": "code",
      "source": [
        "# g) Write a Python program to add a list to the second list\n",
        "list1 = [1, 2, 3]\n",
        "list2 = [4, 5, 6]\n",
        "list1.extend(list2)\n",
        "print(\"Combined list:\", list1)\n",
        "\n"
      ],
      "metadata": {
        "colab": {
          "base_uri": "https://localhost:8080/"
        },
        "id": "4AR2jWnaPFO4",
        "outputId": "fe578ec9-a8ad-431f-d882-70fbcdd7b6bf"
      },
      "execution_count": null,
      "outputs": [
        {
          "output_type": "stream",
          "name": "stdout",
          "text": [
            "Combined list: [1, 2, 3, 4, 5, 6]\n"
          ]
        }
      ]
    },
    {
      "cell_type": "code",
      "source": [
        "# h) Write a Python program to get unique values from a list and to count unique values inside a list. Also get the frequency of the elements in the list.\n",
        "my_list = [1, 2, 3, 2, 4, 5, 4, 2]\n",
        "unique_values = list(set(my_list))\n",
        "count_unique_values = len(unique_values)\n",
        "frequency = {}\n",
        "for num in my_list:\n",
        "  if num in frequency:\n",
        "    frequency[num] += 1\n",
        "  else:\n",
        "    frequency[num] = 1\n",
        "print(\"Unique values:\", unique_values)\n",
        "print(\"Count of unique values:\", count_unique_values)\n",
        "print(\"Frequency of elements:\", frequency)"
      ],
      "metadata": {
        "colab": {
          "base_uri": "https://localhost:8080/"
        },
        "id": "0VaB_8uYPHrH",
        "outputId": "c86f6d78-e3a2-4ee7-b69f-d820aacfc0e9"
      },
      "execution_count": null,
      "outputs": [
        {
          "output_type": "stream",
          "name": "stdout",
          "text": [
            "Unique values: [1, 2, 3, 4, 5]\n",
            "Count of unique values: 5\n",
            "Frequency of elements: {1: 1, 2: 3, 3: 1, 4: 2, 5: 1}\n"
          ]
        }
      ]
    },
    {
      "cell_type": "code",
      "source": [
        "# i) Write a Python Program to Extract elements with Frequency greater than K\n",
        "my_list = [1, 2, 3, 2, 4, 5, 4, 2]\n",
        "k = 2\n",
        "extracted_elements = [num for num in my_list if my_list.count(num) >\n",
        "k]\n",
        "print(\"Elements with frequency greater than\", k, \":\", extracted_elements)"
      ],
      "metadata": {
        "colab": {
          "base_uri": "https://localhost:8080/"
        },
        "id": "LekW1LkkOY9s",
        "outputId": "3e346012-b106-4102-dd9f-1966598d5b23"
      },
      "execution_count": null,
      "outputs": [
        {
          "output_type": "stream",
          "name": "stdout",
          "text": [
            "Elements with frequency greater than 2 : [2, 2, 2]\n"
          ]
        }
      ]
    },
    {
      "cell_type": "code",
      "source": [
        "# j) Write a Python program to reverse All Strings in String List\n",
        "string_list = ['Hello', 'World', 'Python']\n",
        "reversed_list = [string[::-1] for string in string_list]\n",
        "print(\"Reversed string list:\", reversed_list)"
      ],
      "metadata": {
        "id": "Xl5xa4PdPdLA",
        "outputId": "709cfa28-da68-49ce-a21c-329f2846204d",
        "colab": {
          "base_uri": "https://localhost:8080/"
        }
      },
      "execution_count": null,
      "outputs": [
        {
          "output_type": "stream",
          "name": "stdout",
          "text": [
            "Reversed string list: ['olleH', 'dlroW', 'nohtyP']\n"
          ]
        }
      ]
    },
    {
      "cell_type": "markdown",
      "source": [
        "# Write a Python program to reverse All Strings in String List"
      ],
      "metadata": {
        "id": "4cZRyy8gBuJU"
      }
    },
    {
      "cell_type": "code",
      "source": [
        "# Create the initial dictionary\n",
        "fruit = {\n",
        "    \"names\": [\"Mango\", \"Lemon\"],\n",
        "    \"color\": [\"yellow\", \"green\"],\n",
        "    \"taste\": [\"sweet\", \"sour\"]\n",
        "}\n",
        "\n",
        "# Display the initial dictionary\n",
        "print(\"Initial Dictionary:\")\n",
        "print(fruit)\n",
        "\n",
        "# Add a new value, Apple, to the \"names\" key\n",
        "fruit[\"names\"].append(\"Apple\")\n",
        "\n",
        "# Display the updated dictionary\n",
        "print(\"\\nUpdated Dictionary:\")\n",
        "print(fruit)"
      ],
      "metadata": {
        "colab": {
          "base_uri": "https://localhost:8080/"
        },
        "id": "DqbyokPgBvYe",
        "outputId": "da03db2d-7494-4d2c-8876-2184d277b1e6"
      },
      "execution_count": 1,
      "outputs": [
        {
          "output_type": "stream",
          "name": "stdout",
          "text": [
            "Initial Dictionary:\n",
            "{'names': ['Mango', 'Lemon'], 'color': ['yellow', 'green'], 'taste': ['sweet', 'sour']}\n",
            "\n",
            "Updated Dictionary:\n",
            "{'names': ['Mango', 'Lemon', 'Apple'], 'color': ['yellow', 'green'], 'taste': ['sweet', 'sour']}\n"
          ]
        }
      ]
    },
    {
      "cell_type": "code",
      "source": [
        "#b) Write a Python program to add a key to a dictionary\n",
        "\n",
        "# Original dictionary\n",
        "fruit = {\n",
        "    \"names\": [\"Mango\", \"Lemon\"],\n",
        "    \"color\": [\"yellow\", \"green\"],\n",
        "    \"taste\": [\"sweet\", \"sour\"]\n",
        "}\n",
        "\n",
        "# Display the original dictionary\n",
        "print(\"Original Dictionary:\")\n",
        "print(fruit)\n",
        "\n",
        "# Add a new key-value pair to the dictionary\n",
        "fruit[\"price\"] = [2.99, 1.49]\n",
        "\n",
        "# Display the updated dictionary\n",
        "print(\"\\nUpdated Dictionary:\")\n",
        "print(fruit)\n"
      ],
      "metadata": {
        "colab": {
          "base_uri": "https://localhost:8080/"
        },
        "id": "pN5xCQdNCgAZ",
        "outputId": "96d38e10-a1b9-4e5b-fa1e-8d722bd19f0b"
      },
      "execution_count": 2,
      "outputs": [
        {
          "output_type": "stream",
          "name": "stdout",
          "text": [
            "Original Dictionary:\n",
            "{'names': ['Mango', 'Lemon'], 'color': ['yellow', 'green'], 'taste': ['sweet', 'sour']}\n",
            "\n",
            "Updated Dictionary:\n",
            "{'names': ['Mango', 'Lemon'], 'color': ['yellow', 'green'], 'taste': ['sweet', 'sour'], 'price': [2.99, 1.49]}\n"
          ]
        }
      ]
    },
    {
      "cell_type": "markdown",
      "source": [
        "*  c) Write a Python program to check whether a given key already exists in a dictionary.\n",
        "*  d) Access dictionary key’s element by index.\n",
        "*  e) Write a Python program to iterate over dictionaries using for loops.\n",
        "*  f) Write a Python script to print a dictionary where the keys are numbers between 1 and n (both\n",
        "included) and the values are square of keys.\n",
        "*  g) Create a dictionary by extracting the keys from a given dictionary\n",
        "*  h) Write a Python program to Rename key of a dictionary\n",
        "*  i) Write a program to print only keys of a dictionary\n",
        "*  j) Write a program to print values of dictionary."
      ],
      "metadata": {
        "id": "m5MRc_cICux4"
      }
    },
    {
      "cell_type": "code",
      "source": [
        "# c) Write a Python program to check whether a given key already exists in a dictionary.\n",
        "\n",
        "def check_key(dictionary, key):\n",
        "    if key in dictionary:\n",
        "        return True\n",
        "    else:\n",
        "        return False\n",
        "\n",
        "# Example usage\n",
        "fruit = {\n",
        "    \"names\": [\"Mango\", \"Lemon\"],\n",
        "    \"color\": [\"yellow\", \"green\"],\n",
        "    \"taste\": [\"sweet\", \"sour\"]\n",
        "}\n",
        "\n",
        "key_to_check = \"color\"\n",
        "exists = check_key(fruit, key_to_check)\n",
        "print(f\"The key '{key_to_check}' exists in the dictionary: {exists}\")\n"
      ],
      "metadata": {
        "colab": {
          "base_uri": "https://localhost:8080/"
        },
        "id": "hUEgtZLfC4He",
        "outputId": "7dcec0e2-0392-45ec-9fa6-a7809cab333d"
      },
      "execution_count": 3,
      "outputs": [
        {
          "output_type": "stream",
          "name": "stdout",
          "text": [
            "The key 'color' exists in the dictionary: True\n"
          ]
        }
      ]
    },
    {
      "cell_type": "code",
      "source": [
        "# d) Access dictionary key’s element by index.\n",
        "\n",
        "fruit = {\n",
        "    \"names\": [\"Mango\", \"Lemon\"],\n",
        "    \"color\": [\"yellow\", \"green\"],\n",
        "    \"taste\": [\"sweet\", \"sour\"]\n",
        "}\n",
        "\n",
        "key = \"names\"\n",
        "index = 1\n",
        "\n",
        "value = fruit[key][index]\n",
        "print(f\"The element at index {index} of key '{key}' is: {value}\")"
      ],
      "metadata": {
        "colab": {
          "base_uri": "https://localhost:8080/"
        },
        "id": "cNAjSbXkDME7",
        "outputId": "914dce74-482f-4b6a-bec3-84f5cdb4b561"
      },
      "execution_count": 4,
      "outputs": [
        {
          "output_type": "stream",
          "name": "stdout",
          "text": [
            "The element at index 1 of key 'names' is: Lemon\n"
          ]
        }
      ]
    },
    {
      "cell_type": "code",
      "source": [
        "# e) Write a Python program to iterate over dictionaries using for loops.\n",
        "\n",
        "fruit = {\n",
        "    \"names\": [\"Mango\", \"Lemon\"],\n",
        "    \"color\": [\"yellow\", \"green\"],\n",
        "    \"taste\": [\"sweet\", \"sour\"]\n",
        "}\n",
        "\n",
        "# Iterate over the dictionary using for loop\n",
        "for key, value in fruit.items():\n",
        "    print(f\"Key: {key}, Value: {value}\")\n"
      ],
      "metadata": {
        "colab": {
          "base_uri": "https://localhost:8080/"
        },
        "id": "rJClhQQlDSUW",
        "outputId": "c73e1798-543d-4802-ddf7-075eaebdf0d7"
      },
      "execution_count": 5,
      "outputs": [
        {
          "output_type": "stream",
          "name": "stdout",
          "text": [
            "Key: names, Value: ['Mango', 'Lemon']\n",
            "Key: color, Value: ['yellow', 'green']\n",
            "Key: taste, Value: ['sweet', 'sour']\n"
          ]
        }
      ]
    },
    {
      "cell_type": "code",
      "source": [
        "# f) Write a Python script to print a dictionary where the keys are numbers between 1 and n (both included) and the values are the squares of the keys:\n",
        "\n",
        "def create_dict(n):\n",
        "    square_dict = {}\n",
        "\n",
        "    for i in range(1, n+1):\n",
        "        square_dict[i] = i ** 2\n",
        "\n",
        "    return square_dict\n",
        "\n",
        "# Example usage\n",
        "n = 5\n",
        "result_dict = create_dict(n)\n",
        "print(result_dict)\n"
      ],
      "metadata": {
        "colab": {
          "base_uri": "https://localhost:8080/"
        },
        "id": "DnxLPiUaDxRc",
        "outputId": "d3104607-5027-4a5d-f6d5-94de7d282635"
      },
      "execution_count": 6,
      "outputs": [
        {
          "output_type": "stream",
          "name": "stdout",
          "text": [
            "{1: 1, 2: 4, 3: 9, 4: 16, 5: 25}\n"
          ]
        }
      ]
    },
    {
      "cell_type": "code",
      "source": [
        "# g) Create a dictionary by extracting the keys from a given dictionary:\n",
        "\n",
        "fruit = {\n",
        "    \"names\": [\"Mango\", \"Lemon\"],\n",
        "    \"color\": [\"yellow\", \"green\"],\n",
        "    \"taste\": [\"sweet\", \"sour\"]\n",
        "}\n",
        "\n",
        "keys_dict = dict.fromkeys(fruit.keys())\n",
        "print(keys_dict)"
      ],
      "metadata": {
        "colab": {
          "base_uri": "https://localhost:8080/"
        },
        "id": "olxqBHQgD8H5",
        "outputId": "657b5f4c-a894-40ed-c348-eb8e0c0eb400"
      },
      "execution_count": 7,
      "outputs": [
        {
          "output_type": "stream",
          "name": "stdout",
          "text": [
            "{'names': None, 'color': None, 'taste': None}\n"
          ]
        }
      ]
    },
    {
      "cell_type": "code",
      "source": [
        "# h) Write a Python program to rename the key of a dictionary:\n",
        "\n",
        "def rename_key(dictionary, old_key, new_key):\n",
        "    if old_key in dictionary:\n",
        "        dictionary[new_key] = dictionary.pop(old_key)\n",
        "        return dictionary\n",
        "    else:\n",
        "        return \"Key not found in the dictionary\"\n",
        "\n",
        "# Example usage\n",
        "fruit = {\n",
        "    \"names\": [\"Mango\", \"Lemon\"],\n",
        "    \"color\": [\"yellow\", \"green\"],\n",
        "    \"taste\": [\"sweet\", \"sour\"]\n",
        "}\n",
        "\n",
        "old_key = \"names\"\n",
        "new_key = \"fruits\"\n",
        "\n",
        "result = rename_key(fruit, old_key, new_key)\n",
        "print(result)\n"
      ],
      "metadata": {
        "colab": {
          "base_uri": "https://localhost:8080/"
        },
        "id": "9esXqFEEEFcs",
        "outputId": "d8ff44d3-06af-4400-947b-8204a628462e"
      },
      "execution_count": 8,
      "outputs": [
        {
          "output_type": "stream",
          "name": "stdout",
          "text": [
            "{'color': ['yellow', 'green'], 'taste': ['sweet', 'sour'], 'fruits': ['Mango', 'Lemon']}\n"
          ]
        }
      ]
    },
    {
      "cell_type": "code",
      "source": [
        "# i) Write a program to print only keys of a dictionary:\n",
        "\n",
        "fruit = {\n",
        "    \"names\": [\"Mango\", \"Lemon\"],\n",
        "    \"color\": [\"yellow\", \"green\"],\n",
        "    \"taste\": [\"sweet\", \"sour\"]\n",
        "}\n",
        "\n",
        "keys = fruit.keys()\n",
        "print(\"Keys of the dictionary:\")\n",
        "for key in keys:\n",
        "    print(key)\n"
      ],
      "metadata": {
        "id": "ptEzHYk9EVMX"
      },
      "execution_count": null,
      "outputs": []
    },
    {
      "cell_type": "code",
      "source": [
        "# j) Write a program to print values of a dictionary:\n",
        "\n",
        "fruit = {\n",
        "    \"names\": [\"Mango\", \"Lemon\"],\n",
        "    \"color\": [\"yellow\", \"green\"],\n",
        "    \"taste\": [\"sweet\", \"sour\"]\n",
        "}\n",
        "\n",
        "values = fruit.values()\n",
        "print(\"Values of the dictionary:\")\n",
        "for value in values:\n",
        "    print(value)\n"
      ],
      "metadata": {
        "colab": {
          "base_uri": "https://localhost:8080/"
        },
        "id": "jpghJzDvEZEA",
        "outputId": "28b36d62-61fa-4734-cde4-c7a209606a4e"
      },
      "execution_count": 9,
      "outputs": [
        {
          "output_type": "stream",
          "name": "stdout",
          "text": [
            "Values of the dictionary:\n",
            "['Mango', 'Lemon']\n",
            "['yellow', 'green']\n",
            "['sweet', 'sour']\n"
          ]
        }
      ]
    },
    {
      "cell_type": "markdown",
      "source": [
        "# Python: Loops"
      ],
      "metadata": {
        "id": "2XeswZfSEm19"
      }
    },
    {
      "cell_type": "code",
      "source": [
        "# a) Print the first 10 natural numbers using a while loop:\n",
        "\n",
        "num = 1\n",
        "count = 1\n",
        "\n",
        "while count <= 10:\n",
        "    print(num)\n",
        "    num += 1\n",
        "    count += 1"
      ],
      "metadata": {
        "colab": {
          "base_uri": "https://localhost:8080/"
        },
        "id": "lpt0XeK7EqKc",
        "outputId": "113f97cf-67e2-4b5f-d622-4bcda008c823"
      },
      "execution_count": 10,
      "outputs": [
        {
          "output_type": "stream",
          "name": "stdout",
          "text": [
            "1\n",
            "2\n",
            "3\n",
            "4\n",
            "5\n",
            "6\n",
            "7\n",
            "8\n",
            "9\n",
            "10\n"
          ]
        }
      ]
    },
    {
      "cell_type": "code",
      "source": [
        "# b) Write a program to print the multiplication table of a given number:\n",
        "\n",
        "num = int(input(\"Enter a number: \"))\n",
        "\n",
        "print(f\"Multiplication table of {num}:\")\n",
        "count = 1\n",
        "\n",
        "while count <= 10:\n",
        "    result = num * count\n",
        "    print(f\"{num} x {count} = {result}\")\n",
        "    count += 1"
      ],
      "metadata": {
        "colab": {
          "base_uri": "https://localhost:8080/"
        },
        "id": "1HKMCxDoE6LU",
        "outputId": "5a8462da-9169-47ad-ee35-cc48387a537c"
      },
      "execution_count": 11,
      "outputs": [
        {
          "output_type": "stream",
          "name": "stdout",
          "text": [
            "Enter a number: 5\n",
            "Multiplication table of 5:\n",
            "5 x 1 = 5\n",
            "5 x 2 = 10\n",
            "5 x 3 = 15\n",
            "5 x 4 = 20\n",
            "5 x 5 = 25\n",
            "5 x 6 = 30\n",
            "5 x 7 = 35\n",
            "5 x 8 = 40\n",
            "5 x 9 = 45\n",
            "5 x 10 = 50\n"
          ]
        }
      ]
    },
    {
      "cell_type": "code",
      "source": [
        "# c) Display numbers from a list using a loop:\n",
        "\n",
        "numbers = [10, 20, 30, 40, 50]\n",
        "\n",
        "print(\"Numbers from the list:\")\n",
        "for num in numbers:\n",
        "    print(num)"
      ],
      "metadata": {
        "colab": {
          "base_uri": "https://localhost:8080/"
        },
        "id": "e62pwrEKFF7o",
        "outputId": "8993e5d5-196b-4899-b345-2bd83f75f6de"
      },
      "execution_count": 12,
      "outputs": [
        {
          "output_type": "stream",
          "name": "stdout",
          "text": [
            "Numbers from the list:\n",
            "10\n",
            "20\n",
            "30\n",
            "40\n",
            "50\n"
          ]
        }
      ]
    },
    {
      "cell_type": "code",
      "source": [
        "# d) Print a list in reverse order using a loop:\n",
        "\n",
        "numbers = [10, 20, 30, 40, 50]\n",
        "\n",
        "print(\"List in reverse order:\")\n",
        "for i in range(len(numbers)-1, -1, -1):\n",
        "    print(numbers[i])"
      ],
      "metadata": {
        "colab": {
          "base_uri": "https://localhost:8080/"
        },
        "id": "gTvSEGElFO6R",
        "outputId": "96f1f5cd-8ebd-4e2f-d530-df4a4deb4ab8"
      },
      "execution_count": 13,
      "outputs": [
        {
          "output_type": "stream",
          "name": "stdout",
          "text": [
            "List in reverse order:\n",
            "50\n",
            "40\n",
            "30\n",
            "20\n",
            "10\n"
          ]
        }
      ]
    },
    {
      "cell_type": "code",
      "source": [
        "# e) Display numbers from -10 to -1 using a for loop:\n",
        "\n",
        "print(\"Numbers from -10 to -1:\")\n",
        "for num in range(-10, 0):\n",
        "    print(num)"
      ],
      "metadata": {
        "colab": {
          "base_uri": "https://localhost:8080/"
        },
        "id": "ktDRsGkxFVmj",
        "outputId": "093ffc73-2638-464e-ac72-9b2143c5a627"
      },
      "execution_count": 14,
      "outputs": [
        {
          "output_type": "stream",
          "name": "stdout",
          "text": [
            "Numbers from -10 to -1:\n",
            "-10\n",
            "-9\n",
            "-8\n",
            "-7\n",
            "-6\n",
            "-5\n",
            "-4\n",
            "-3\n",
            "-2\n",
            "-1\n"
          ]
        }
      ]
    },
    {
      "cell_type": "code",
      "source": [
        "# f) Find the factorial of a given number:\n",
        "\n",
        "num = int(input(\"Enter a number: \"))\n",
        "\n",
        "factorial = 1\n",
        "for i in range(1, num+1):\n",
        "    factorial *= i\n",
        "\n",
        "print(f\"The factorial of {num} is: {factorial}\")"
      ],
      "metadata": {
        "colab": {
          "base_uri": "https://localhost:8080/"
        },
        "id": "tgTDfP18FcMR",
        "outputId": "6ecc6d91-27e8-4f60-d789-a5fbd69c70dd"
      },
      "execution_count": 15,
      "outputs": [
        {
          "output_type": "stream",
          "name": "stdout",
          "text": [
            "Enter a number: 5\n",
            "The factorial of 5 is: 120\n"
          ]
        }
      ]
    },
    {
      "cell_type": "code",
      "source": [
        "# g) Use a loop to display elements from a given list present at odd index positions:\n",
        "\n",
        "fruits = [\"Apple\", \"Banana\", \"Orange\", \"Mango\", \"Pineapple\"]\n",
        "\n",
        "print(\"Fruits at odd index positions:\")\n",
        "for i in range(1, len(fruits), 2):\n",
        "    print(fruits[i])"
      ],
      "metadata": {
        "colab": {
          "base_uri": "https://localhost:8080/"
        },
        "id": "hNgkcavTFjyd",
        "outputId": "4250f588-3c7e-4059-ab41-d02c76a58ca2"
      },
      "execution_count": 16,
      "outputs": [
        {
          "output_type": "stream",
          "name": "stdout",
          "text": [
            "Fruits at odd index positions:\n",
            "Banana\n",
            "Mango\n"
          ]
        }
      ]
    },
    {
      "cell_type": "code",
      "source": [
        "# h) Calculate the cube of all numbers from 1 to a given number:\n",
        "\n",
        "num = int(input(\"Enter a number: \"))\n",
        "\n",
        "print(f\"The cube of numbers from 1 to {num}:\")\n",
        "for i in range(1, num+1):\n",
        "    cube = i ** 3\n",
        "    print(f\"{i}^3 = {cube}\")\n"
      ],
      "metadata": {
        "colab": {
          "base_uri": "https://localhost:8080/"
        },
        "id": "gLbqx7PkFqiN",
        "outputId": "79e049ca-c872-4b55-f61b-173a8d9b0459"
      },
      "execution_count": 19,
      "outputs": [
        {
          "output_type": "stream",
          "name": "stdout",
          "text": [
            "Enter a number: 5\n",
            "The cube of numbers from 1 to 5:\n",
            "1^3 = 1\n",
            "2^3 = 8\n",
            "3^3 = 27\n",
            "4^3 = 64\n",
            "5^3 = 125\n"
          ]
        }
      ]
    },
    {
      "cell_type": "markdown",
      "source": [
        "# Python: User-defined Functions"
      ],
      "metadata": {
        "id": "MavkGqXRGHas"
      }
    },
    {
      "cell_type": "code",
      "source": [
        "# a) write a python program to create a function that will return a list of the unique digits in your class ID.\n",
        "\n",
        "def get_unique_digits(class_id):\n",
        "    \"\"\"A function that returns a list of unique digits in the class ID\"\"\"\n",
        "    unique_digits = []\n",
        "    for digit in str(class_id):\n",
        "        if digit.isdigit() and digit not in unique_digits:\n",
        "            unique_digits.append(digit)\n",
        "    return unique_digits\n",
        "\n",
        "# Example usage\n",
        "class_id = \"1234567890\"  # Replace with your own class ID\n",
        "unique_digits = get_unique_digits(class_id)\n",
        "print(\"Unique digits in class ID:\", unique_digits)\n"
      ],
      "metadata": {
        "colab": {
          "base_uri": "https://localhost:8080/"
        },
        "id": "pVuzhIxMGG2Q",
        "outputId": "c5711764-825a-4a5f-d340-780241802af0"
      },
      "execution_count": 20,
      "outputs": [
        {
          "output_type": "stream",
          "name": "stdout",
          "text": [
            "Unique digits in class ID: ['1', '2', '3', '4', '5', '6', '7', '8', '9', '0']\n"
          ]
        }
      ]
    }
  ]
}